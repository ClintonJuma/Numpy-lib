{
 "cells": [
  {
   "cell_type": "code",
   "execution_count": 2,
   "id": "2b014d23",
   "metadata": {},
   "outputs": [],
   "source": [
    "#Random number, means somethign that can  not be predicted logically\n",
    "#Pseudo random-random numbers generated through a generation algorithim\n",
    "#Truly random-we need to get the random data from some outside source like mouse movements.Truly random are not needed, unless its related to security, encryption"
   ]
  },
  {
   "cell_type": "markdown",
   "id": "2fa3b6a1",
   "metadata": {},
   "source": [
    "# Generate Random Number"
   ]
  },
  {
   "cell_type": "code",
   "execution_count": 5,
   "id": "7c193f2b",
   "metadata": {},
   "outputs": [
    {
     "name": "stdout",
     "output_type": "stream",
     "text": [
      "42\n"
     ]
    }
   ],
   "source": [
    "#Random module\n",
    "from numpy import random\n",
    "x = random.randint(100)\n",
    "print(x)"
   ]
  },
  {
   "cell_type": "code",
   "execution_count": 6,
   "id": "b6b8b795",
   "metadata": {},
   "outputs": [
    {
     "name": "stdout",
     "output_type": "stream",
     "text": [
      "0.49463056245044235\n"
     ]
    }
   ],
   "source": [
    "y = random.rand()\n",
    "print(y)"
   ]
  },
  {
   "cell_type": "markdown",
   "id": "75d37737",
   "metadata": {},
   "source": [
    "random float"
   ]
  },
  {
   "cell_type": "code",
   "execution_count": 7,
   "id": "7bd8516c",
   "metadata": {},
   "outputs": [
    {
     "name": "stdout",
     "output_type": "stream",
     "text": [
      "[70 82 25 48 64]\n"
     ]
    }
   ],
   "source": [
    "z = random.randint(100, size = (5))\n",
    "print(z)"
   ]
  },
  {
   "cell_type": "markdown",
   "id": "dc5e1e16",
   "metadata": {},
   "source": [
    "random Array, with size parameter"
   ]
  },
  {
   "cell_type": "code",
   "execution_count": 12,
   "id": "0c4dccd9",
   "metadata": {},
   "outputs": [
    {
     "name": "stdout",
     "output_type": "stream",
     "text": [
      "[[63 63 69 86 12]\n",
      " [31 17 81 86 45]\n",
      " [20 58 32 14 45]]\n"
     ]
    }
   ],
   "source": [
    "z = random.randint(100, size = (3, 5))#rows, columns\n",
    "print(z)"
   ]
  },
  {
   "cell_type": "code",
   "execution_count": 15,
   "id": "c8c011f6",
   "metadata": {},
   "outputs": [
    {
     "name": "stdout",
     "output_type": "stream",
     "text": [
      "[[ 0 54]\n",
      " [64  9]\n",
      " [97 16]\n",
      " [60  9]\n",
      " [26 35]]\n"
     ]
    }
   ],
   "source": [
    "a = random.randint(100, size = (5, 2))\n",
    "print(a)"
   ]
  },
  {
   "cell_type": "code",
   "execution_count": 16,
   "id": "4410280d",
   "metadata": {},
   "outputs": [
    {
     "name": "stdout",
     "output_type": "stream",
     "text": [
      "[0.6718451  0.51944896 0.64614156 0.82337257 0.55720844]\n"
     ]
    }
   ],
   "source": [
    "b = random.rand(5)\n",
    "print(b)"
   ]
  },
  {
   "cell_type": "code",
   "execution_count": 18,
   "id": "3d0b0653",
   "metadata": {},
   "outputs": [
    {
     "name": "stdout",
     "output_type": "stream",
     "text": [
      "22\n"
     ]
    }
   ],
   "source": [
    "x = random.randint(100)\n",
    "print(x)"
   ]
  },
  {
   "cell_type": "code",
   "execution_count": 19,
   "id": "93bc5988",
   "metadata": {},
   "outputs": [
    {
     "name": "stdout",
     "output_type": "stream",
     "text": [
      "0.13900082199719255\n"
     ]
    }
   ],
   "source": [
    "y = random.rand()\n",
    "print(y)"
   ]
  },
  {
   "cell_type": "code",
   "execution_count": 22,
   "id": "4fbef415",
   "metadata": {},
   "outputs": [
    {
     "name": "stdout",
     "output_type": "stream",
     "text": [
      "2\n"
     ]
    }
   ],
   "source": [
    "y = random.randint(3)\n",
    "print(y)"
   ]
  },
  {
   "cell_type": "code",
   "execution_count": 23,
   "id": "d37aff2d",
   "metadata": {},
   "outputs": [
    {
     "name": "stdout",
     "output_type": "stream",
     "text": [
      "[[0.91410902 0.12666542 0.96620248 0.84911899 0.22301924]\n",
      " [0.41952159 0.6194503  0.91081925 0.99539085 0.43529811]\n",
      " [0.54554368 0.17290994 0.49160395 0.02969794 0.54274556]]\n"
     ]
    }
   ],
   "source": [
    "x = random.rand(3, 5)\n",
    "print(x)"
   ]
  },
  {
   "cell_type": "markdown",
   "id": "52c2ad5f",
   "metadata": {},
   "source": [
    "generate 2D array, with 3 rows and 5 columns"
   ]
  },
  {
   "cell_type": "markdown",
   "id": "034bfa24",
   "metadata": {},
   "source": [
    "# Random number from Array"
   ]
  },
  {
   "cell_type": "code",
   "execution_count": 26,
   "id": "e9799e39",
   "metadata": {},
   "outputs": [
    {
     "data": {
      "text/plain": [
       "9"
      ]
     },
     "execution_count": 26,
     "metadata": {},
     "output_type": "execute_result"
    }
   ],
   "source": [
    "from numpy import random\n",
    "x = random.choice([3, 5, 7, 9])\n",
    "x"
   ]
  },
  {
   "cell_type": "code",
   "execution_count": 28,
   "id": "a5fd0b69",
   "metadata": {},
   "outputs": [
    {
     "name": "stdout",
     "output_type": "stream",
     "text": [
      "[[9 9 5 5 7]\n",
      " [5 7 3 9 7]\n",
      " [5 3 9 5 9]]\n"
     ]
    }
   ],
   "source": [
    "#using choice method\n",
    "x = random.choice([3, 5, 7, 9], size = (3, 5))\n",
    "print(x)"
   ]
  },
  {
   "cell_type": "markdown",
   "id": "148f8bc9",
   "metadata": {},
   "source": [
    "# Random data Distribution"
   ]
  },
  {
   "cell_type": "markdown",
   "id": "4431465f",
   "metadata": {},
   "source": [
    "Data distribution; list of possible values, and how often each value occurs"
   ]
  },
  {
   "cell_type": "markdown",
   "id": "576e8e42",
   "metadata": {},
   "source": [
    "Random distribution; is a set of random numbers that follow a certain probability density function"
   ]
  },
  {
   "cell_type": "code",
   "execution_count": 35,
   "id": "2f41752a",
   "metadata": {},
   "outputs": [
    {
     "name": "stdout",
     "output_type": "stream",
     "text": [
      "[7 7 7 7 7 5 7 7 5 5 5 7 7 5 7 7 5 7 7 5 7 7 5 7 7 5 7 3 3 7 3 5 7 7 7 3 7\n",
      " 5 7 5 7 7 7 5 3 7 5 3 7 5 7 5 5 5 7 7 5 5 7 7 7 7 7 7 7 7 5 7 5 3 3 7 5 7\n",
      " 7 5 5 7 7 5 7 7 7 7 7 7 7 5 7 5 3 7 7 7 5 7 7 7 5 5]\n"
     ]
    }
   ],
   "source": [
    "from numpy import random\n",
    "x = random.choice([3, 5, 7, 9], p=[0.1, 0.3, 0.6, 0.0], size = (100))\n",
    "print(x)\n",
    "#P, is the probability for the value of each number respectively"
   ]
  },
  {
   "cell_type": "code",
   "execution_count": 34,
   "id": "79923e9d",
   "metadata": {},
   "outputs": [
    {
     "name": "stdout",
     "output_type": "stream",
     "text": [
      "[3 9 9 9 5 3 3 3 9 9 9 7 9 9 9 3 5 3 9 9 3 9 7 3 5 3 3 9 7 9 9 3 3 7 9 3 5\n",
      " 7 7 3 7 9 7 5 5 7 7 3 5 5 5 7 9 7 7 3 9 3 5 5 7 7 3 5 3 7 7 3 5 9 7 3 5 5\n",
      " 5 9 3 5 9 3 9 5 7 7 9 7 5 9 3 9 3 9 3 9 5 9 5 5 5 3]\n"
     ]
    }
   ],
   "source": [
    "x = random.choice([3, 5, 7, 9], size = 100)\n",
    "print(x)"
   ]
  },
  {
   "cell_type": "markdown",
   "id": "02f816da",
   "metadata": {},
   "source": [
    "sum of probability of all number should be 1"
   ]
  },
  {
   "cell_type": "code",
   "execution_count": 40,
   "id": "6507ba3a",
   "metadata": {},
   "outputs": [
    {
     "name": "stdout",
     "output_type": "stream",
     "text": [
      "[3 7 7 9 7 5 7 5 3 9 3 3 9 7 7 5 5 7 7 9 5 5 5 9 9 9 9 9 9 5 7 7 5 9 5 7 5\n",
      " 9 7 7 7 5 7 5 7 7 7 7 7 5 7 5 9 9 7 7 7 5 5 7 5 5 7 9 7 5 5 7 5 9 3 7 5 7\n",
      " 5 7 5 5 9 3 3 5 7 5 5 5 7 9 5 9 9 7 7 5 9 9 7 5 5 5]\n"
     ]
    }
   ],
   "source": [
    "from numpy import random\n",
    "x = random.choice([3, 5, 7, 9], p=[0.1, 0.3, 0.4, 0.2], size = (100))\n",
    "print(x)\n",
    "#P, is the probability for the value of each number respectively"
   ]
  },
  {
   "cell_type": "code",
   "execution_count": 41,
   "id": "8297af55",
   "metadata": {},
   "outputs": [
    {
     "name": "stdout",
     "output_type": "stream",
     "text": [
      "[[7 5 5 5 3]\n",
      " [7 7 7 7 7]\n",
      " [7 7 5 7 5]]\n"
     ]
    }
   ],
   "source": [
    "from numpy import random\n",
    "x = random.choice([3, 5, 7, 9], p=[0.1, 0.3, 0.6, 0.0], size = (3, 5))\n",
    "print(x)"
   ]
  },
  {
   "cell_type": "markdown",
   "id": "40b5d5d6",
   "metadata": {},
   "source": [
    "# Random permutations"
   ]
  },
  {
   "cell_type": "markdown",
   "id": "49609a69",
   "metadata": {},
   "source": [
    "Permutation;refers to an arrangement of Elements"
   ]
  },
  {
   "cell_type": "markdown",
   "id": "025b707c",
   "metadata": {},
   "source": [
    "SHUFFLING ARRAYS, changing arrangement of elements in the array itself"
   ]
  },
  {
   "cell_type": "code",
   "execution_count": 50,
   "id": "09f5d6a6",
   "metadata": {},
   "outputs": [
    {
     "name": "stdout",
     "output_type": "stream",
     "text": [
      "[2 3 1 4 5]\n"
     ]
    }
   ],
   "source": [
    "import numpy as np\n",
    "from numpy import random\n",
    "arr = np.array([1, 2, 3, 4, 5])\n",
    "random.shuffle(arr)\n",
    "print(arr)"
   ]
  },
  {
   "cell_type": "code",
   "execution_count": 52,
   "id": "16c09914",
   "metadata": {},
   "outputs": [
    {
     "name": "stdout",
     "output_type": "stream",
     "text": [
      "[2 5 3 1 4]\n"
     ]
    }
   ],
   "source": [
    "arr = np.array([1, 2, 3, 4, 5])\n",
    "print(random.permutation(arr))"
   ]
  },
  {
   "cell_type": "code",
   "execution_count": null,
   "id": "6eb75d8c",
   "metadata": {},
   "outputs": [],
   "source": []
  },
  {
   "cell_type": "code",
   "execution_count": null,
   "id": "04db7372",
   "metadata": {},
   "outputs": [],
   "source": []
  }
 ],
 "metadata": {
  "kernelspec": {
   "display_name": "Python 3 (ipykernel)",
   "language": "python",
   "name": "python3"
  },
  "language_info": {
   "codemirror_mode": {
    "name": "ipython",
    "version": 3
   },
   "file_extension": ".py",
   "mimetype": "text/x-python",
   "name": "python",
   "nbconvert_exporter": "python",
   "pygments_lexer": "ipython3",
   "version": "3.9.12"
  }
 },
 "nbformat": 4,
 "nbformat_minor": 5
}
