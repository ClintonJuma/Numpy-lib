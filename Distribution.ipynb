{
 "cells": [
  {
   "cell_type": "markdown",
   "id": "34442d5b",
   "metadata": {},
   "source": [
    "# NORMAL DISTRIBUTION(Gaussian)"
   ]
  },
  {
   "cell_type": "markdown",
   "id": "4a0db2ff",
   "metadata": {},
   "source": [
    "fits the probability distribution of many events; Heartbeat, Scores(used for continous events)\n"
   ]
  },
  {
   "cell_type": "code",
   "execution_count": 2,
   "id": "a8b29a99",
   "metadata": {},
   "outputs": [],
   "source": [
    "#random.normal-Normal data distribution with three parameters\n",
    "#loc(mean); where the peak of the bell exists \n",
    "#scale(std);how flat the graph of distribution should be\n",
    "#size;shape of the returned array\n"
   ]
  },
  {
   "cell_type": "code",
   "execution_count": 2,
   "id": "c1c0a7b2",
   "metadata": {},
   "outputs": [
    {
     "name": "stdout",
     "output_type": "stream",
     "text": [
      "[[1 3 4 4 3]]\n"
     ]
    }
   ],
   "source": [
    "from numpy import random\n",
    "arr = random.randint(5, size =(1, 5))\n",
    "print(arr)"
   ]
  },
  {
   "cell_type": "code",
   "execution_count": 4,
   "id": "16b014dd",
   "metadata": {},
   "outputs": [
    {
     "name": "stdout",
     "output_type": "stream",
     "text": [
      "4.410273851814975\n"
     ]
    }
   ],
   "source": [
    "x = random.normal(5)\n",
    "print(x)"
   ]
  },
  {
   "cell_type": "code",
   "execution_count": 5,
   "id": "9330a8f6",
   "metadata": {},
   "outputs": [
    {
     "name": "stdout",
     "output_type": "stream",
     "text": [
      "3\n"
     ]
    }
   ],
   "source": [
    "x = random.randint(5)\n",
    "print(x)"
   ]
  },
  {
   "cell_type": "code",
   "execution_count": 6,
   "id": "95c3b837",
   "metadata": {},
   "outputs": [],
   "source": [
    "#random.normal(), normal data distribution\n",
    "#loc-where peak of bell exists(mean)\n",
    "#scale- how flat the graph distribution  should be\n",
    "#size-shaoe of returned array"
   ]
  },
  {
   "cell_type": "code",
   "execution_count": 8,
   "id": "65aa1899",
   "metadata": {},
   "outputs": [
    {
     "name": "stdout",
     "output_type": "stream",
     "text": [
      "4\n"
     ]
    }
   ],
   "source": [
    "from numpy import random\n",
    "x = random.randint(5)\n",
    "print(x)"
   ]
  },
  {
   "cell_type": "code",
   "execution_count": 11,
   "id": "5b19f0b3",
   "metadata": {},
   "outputs": [
    {
     "name": "stdout",
     "output_type": "stream",
     "text": [
      "[[2.91107292 3.33961354 3.67541226]]\n"
     ]
    }
   ],
   "source": [
    "y = random.normal(3, size=(1, 3))\n",
    "print(y)"
   ]
  },
  {
   "cell_type": "code",
   "execution_count": 10,
   "id": "0da8e46a",
   "metadata": {},
   "outputs": [
    {
     "name": "stdout",
     "output_type": "stream",
     "text": [
      "[[-0.40038343 -0.2575957  -0.52644767]\n",
      " [ 1.14725043 -0.5333991   0.47187177]]\n"
     ]
    }
   ],
   "source": [
    "z = random.normal(size=(2, 3))\n",
    "print(z)"
   ]
  },
  {
   "cell_type": "markdown",
   "id": "14ff7c11",
   "metadata": {},
   "source": [
    "# Visualisation of normal distribution"
   ]
  },
  {
   "cell_type": "code",
   "execution_count": 14,
   "id": "7da6c84d",
   "metadata": {
    "scrolled": true
   },
   "outputs": [
    {
     "name": "stderr",
     "output_type": "stream",
     "text": [
      "C:\\Users\\PC\\anaconda3\\lib\\site-packages\\seaborn\\distributions.py:2619: FutureWarning: `distplot` is a deprecated function and will be removed in a future version. Please adapt your code to use either `displot` (a figure-level function with similar flexibility) or `kdeplot` (an axes-level function for kernel density plots).\n",
      "  warnings.warn(msg, FutureWarning)\n"
     ]
    },
    {
     "data": {
      "image/png": "[encoded data removed]",
      "text/plain": [
       "<Figure size 432x288 with 1 Axes>"
      ]
     },
     "metadata": {
      "needs_background": "light"
     },
     "output_type": "display_data"
    }
   ],
   "source": [
    "from numpy import random\n",
    "import matplotlib.pyplot as plt\n",
    "import seaborn as sns\n",
    "\n",
    "sns.distplot(random.normal(size=1000), hist=False)\n",
    "\n",
    "plt.show()"
   ]
  },
  {
   "cell_type": "markdown",
   "id": "b1b83005",
   "metadata": {},
   "source": [
    "# BINOMIAL DISTRIBUTION"
   ]
  },
  {
   "cell_type": "code",
   "execution_count": 15,
   "id": "e69c4bd0",
   "metadata": {},
   "outputs": [],
   "source": [
    "#a discrete distribution, describes outcome  of binary scenariosbinary scenario like toss coin, head or tail\n",
    "#has 3 parameters;\n",
    "#n-number of trials\n",
    "#p-probability\n",
    "#size-shape of array"
   ]
  },
  {
   "cell_type": "markdown",
   "id": "fa32ca54",
   "metadata": {},
   "source": [
    "Distribution is defined at a separate set of events, resus of coin toss is discrete"
   ]
  },
  {
   "cell_type": "code",
   "execution_count": 19,
   "id": "519ef68c",
   "metadata": {},
   "outputs": [
    {
     "name": "stdout",
     "output_type": "stream",
     "text": [
      "[7 3 8 7 6 3 4 6 6 5]\n"
     ]
    }
   ],
   "source": [
    "#Given 10 trials for coin toss generate 10 data points:\n",
    "from numpy import random\n",
    "x = random.binomial(n=10, p=0.5, size=(10))\n",
    "print(x)"
   ]
  },
  {
   "cell_type": "markdown",
   "id": "69b094c0",
   "metadata": {},
   "source": [
    "# visualization of binomial distribution"
   ]
  },
  {
   "cell_type": "code",
   "execution_count": 30,
   "id": "f3e93fea",
   "metadata": {},
   "outputs": [
    {
     "data": {
      "image/png": "[encoded data removed]",
      "text/plain": [
       "<Figure size 432x288 with 1 Axes>"
      ]
     },
     "metadata": {
      "needs_background": "light"
     },
     "output_type": "display_data"
    }
   ],
   "source": [
    "from numpy import random\n",
    "import matplotlib.pyplot as plt\n",
    "import seaborn as sns\n",
    "\n",
    "sns.distplot(random.binomial(n=10, p=0.5, size=1000), hist=True, kde=False)\n",
    "\n",
    "plt.show()"
   ]
  },
  {
   "cell_type": "markdown",
   "id": "e25e045e",
   "metadata": {},
   "source": [
    "# POISSON DISTRIBUTION"
   ]
  },
  {
   "cell_type": "markdown",
   "id": "66eb5fc0",
   "metadata": {},
   "source": [
    "also  a discrete distribution, estimates how many times an event can happen in a specified time e.g if i eat twice a day, what is the probability he will eat thrice\n"
   ]
  },
  {
   "cell_type": "code",
   "execution_count": 31,
   "id": "4b1ec826",
   "metadata": {},
   "outputs": [],
   "source": [
    "#has tow parameters;\n",
    "#lam-rate or known number of occurence(2 in above)\n",
    "#size-shape\n"
   ]
  },
  {
   "cell_type": "code",
   "execution_count": 41,
   "id": "2e07008b",
   "metadata": {},
   "outputs": [
    {
     "name": "stdout",
     "output_type": "stream",
     "text": [
      "[1 5 1 1 0 3 3 5 2 2]\n"
     ]
    }
   ],
   "source": [
    "from numpy import random\n",
    "x = random.poisson(lam=2, size=10)\n",
    "print(x)"
   ]
  },
  {
   "cell_type": "markdown",
   "id": "6a4ada7d",
   "metadata": {},
   "source": [
    "# visualisation of poission distribution"
   ]
  },
  {
   "cell_type": "code",
   "execution_count": 43,
   "id": "58cd65c4",
   "metadata": {},
   "outputs": [
    {
     "data": {
      "image/png": "[encoded data removed]",
      "text/plain": [
       "<Figure size 432x288 with 1 Axes>"
      ]
     },
     "metadata": {
      "needs_background": "light"
     },
     "output_type": "display_data"
    }
   ],
   "source": [
    "from numpy import random\n",
    "import matplotlib.pyplot as plt\n",
    "import seaborn as sns\n",
    "sns.distplot(random.poisson(lam=2, size=1000), kde=False)\n",
    "plt.show()"
   ]
  },
  {
   "cell_type": "markdown",
   "id": "6ba30226",
   "metadata": {},
   "source": [
    "# UNIFORM DISTRIBUTION"
   ]
  },
  {
   "cell_type": "markdown",
   "id": "cd38a5db",
   "metadata": {},
   "source": [
    "Describes probability wjere every event has equal chances of occurence.eg random numbers\n"
   ]
  },
  {
   "cell_type": "code",
   "execution_count": 44,
   "id": "d2504245",
   "metadata": {},
   "outputs": [],
   "source": [
    "#has three parameters;\n",
    "#a-lower bound\n",
    "#b-upper bound\n",
    "#size-shape"
   ]
  },
  {
   "cell_type": "code",
   "execution_count": 51,
   "id": "23f8d971",
   "metadata": {},
   "outputs": [
    {
     "name": "stdout",
     "output_type": "stream",
     "text": [
      "[[0.28067947 0.71778236 0.11265658]\n",
      " [0.43222631 0.04760113 0.98153932]]\n"
     ]
    }
   ],
   "source": [
    "from numpy import random\n",
    "x = random.uniform(size=(2, 3))\n",
    "print(x)"
   ]
  },
  {
   "cell_type": "markdown",
   "id": "7ed3a6de",
   "metadata": {},
   "source": [
    "# visualition of uniform distribution"
   ]
  },
  {
   "cell_type": "code",
   "execution_count": 53,
   "id": "2772f358",
   "metadata": {},
   "outputs": [
    {
     "name": "stderr",
     "output_type": "stream",
     "text": [
      "C:\\Users\\PC\\anaconda3\\lib\\site-packages\\seaborn\\distributions.py:2619: FutureWarning: `distplot` is a deprecated function and will be removed in a future version. Please adapt your code to use either `displot` (a figure-level function with similar flexibility) or `kdeplot` (an axes-level function for kernel density plots).\n",
      "  warnings.warn(msg, FutureWarning)\n"
     ]
    },
    {
     "data": {
      "image/png": "[encoded data removed]",
      "text/plain": [
       "<Figure size 432x288 with 1 Axes>"
      ]
     },
     "metadata": {
      "needs_background": "light"
     },
     "output_type": "display_data"
    }
   ],
   "source": [
    "from numpy import random\n",
    "import matplotlib.pyplot as plt\n",
    "import seaborn as sns\n",
    "sns.distplot(random.uniform(size=1000), hist=False)\n",
    "plt.show()"
   ]
  },
  {
   "cell_type": "markdown",
   "id": "82648f91",
   "metadata": {},
   "source": [
    "# LOGISTIC DISTRIBUTION"
   ]
  },
  {
   "cell_type": "markdown",
   "id": "e48b7a16",
   "metadata": {},
   "source": [
    "used to describe growth\n",
    "has three parametwers(loc-mean, scale-std, size-shape)"
   ]
  },
  {
   "cell_type": "code",
   "execution_count": 54,
   "id": "2a3cabc5",
   "metadata": {},
   "outputs": [
    {
     "name": "stdout",
     "output_type": "stream",
     "text": [
      "[[ 0.37346548  2.55099496 -1.19465422]\n",
      " [ 5.76596691  2.47796963  4.3685792 ]]\n"
     ]
    }
   ],
   "source": [
    "from numpy import random\n",
    "x = random.logistic(loc=1, scale=2, size=(2, 3))\n",
    "print(x)"
   ]
  },
  {
   "cell_type": "markdown",
   "id": "6a79f1da",
   "metadata": {},
   "source": [
    "# visualisation of logistic distribution"
   ]
  },
  {
   "cell_type": "code",
   "execution_count": 57,
   "id": "f4e2366f",
   "metadata": {},
   "outputs": [
    {
     "name": "stderr",
     "output_type": "stream",
     "text": [
      "C:\\Users\\PC\\anaconda3\\lib\\site-packages\\seaborn\\distributions.py:2619: FutureWarning: `distplot` is a deprecated function and will be removed in a future version. Please adapt your code to use either `displot` (a figure-level function with similar flexibility) or `kdeplot` (an axes-level function for kernel density plots).\n",
      "  warnings.warn(msg, FutureWarning)\n"
     ]
    },
    {
     "data": {
      "image/png": "[encoded data removed]",
      "text/plain": [
       "<Figure size 432x288 with 1 Axes>"
      ]
     },
     "metadata": {
      "needs_background": "light"
     },
     "output_type": "display_data"
    }
   ],
   "source": [
    "from numpy import random \n",
    "import matplotlib.pyplot as plt\n",
    "import seaborn as sns\n",
    "sns.distplot(random.logistic(size=1000), hist = False)\n",
    "plt.show()"
   ]
  },
  {
   "cell_type": "markdown",
   "id": "c7c76f38",
   "metadata": {},
   "source": [
    "# MULTINOMIAL DISTRIBUTION"
   ]
  },
  {
   "cell_type": "markdown",
   "id": "bc5a0db5",
   "metadata": {},
   "source": [
    "generalization of binomial distribution. Describes outcomes of multinomial scenarios like dice rolling"
   ]
  },
  {
   "cell_type": "code",
   "execution_count": 58,
   "id": "d8b1393d",
   "metadata": {},
   "outputs": [],
   "source": [
    "#has three parameters\n",
    "#n-number of possible outcomes\n",
    "#pvals-probablities of outcomes\n",
    "#size-shape"
   ]
  },
  {
   "cell_type": "code",
   "execution_count": 63,
   "id": "eb45df1a",
   "metadata": {},
   "outputs": [
    {
     "name": "stdout",
     "output_type": "stream",
     "text": [
      "[0 0 2 2 2 0]\n"
     ]
    }
   ],
   "source": [
    "from numpy import random\n",
    "x = random.multinomial(n=6, pvals=[1/6,1/6,1/6,1/6,1/6,1/6])\n",
    "print(x)"
   ]
  },
  {
   "cell_type": "markdown",
   "id": "17f226be",
   "metadata": {},
   "source": [
    "# EXPONENTIAL DISTRIBUTION"
   ]
  },
  {
   "cell_type": "markdown",
   "id": "7eddcaa7",
   "metadata": {},
   "source": [
    "used for describing time till next event;failure or success\n"
   ]
  },
  {
   "cell_type": "code",
   "execution_count": 64,
   "id": "72d88fab",
   "metadata": {},
   "outputs": [],
   "source": [
    "#has two parameters\n",
    "#scale-inverse of rate\n",
    "#size-shape"
   ]
  },
  {
   "cell_type": "code",
   "execution_count": 65,
   "id": "bceb9215",
   "metadata": {},
   "outputs": [
    {
     "name": "stdout",
     "output_type": "stream",
     "text": [
      "[[0.21316397 1.47019034 0.9695173 ]\n",
      " [3.05447554 1.27427554 0.21050584]]\n"
     ]
    }
   ],
   "source": [
    "from numpy import random\n",
    "x = random.exponential(scale=2, size=(2, 3))\n",
    "print(x)"
   ]
  },
  {
   "cell_type": "markdown",
   "id": "47a2a34b",
   "metadata": {},
   "source": [
    "# visualition of Exponential distribution\n"
   ]
  },
  {
   "cell_type": "code",
   "execution_count": 66,
   "id": "35371af8",
   "metadata": {},
   "outputs": [
    {
     "name": "stderr",
     "output_type": "stream",
     "text": [
      "C:\\Users\\PC\\anaconda3\\lib\\site-packages\\seaborn\\distributions.py:2619: FutureWarning: `distplot` is a deprecated function and will be removed in a future version. Please adapt your code to use either `displot` (a figure-level function with similar flexibility) or `kdeplot` (an axes-level function for kernel density plots).\n",
      "  warnings.warn(msg, FutureWarning)\n"
     ]
    },
    {
     "data": {
      "image/png": "[encoded data removed]",
      "text/plain": [
       "<Figure size 432x288 with 1 Axes>"
      ]
     },
     "metadata": {
      "needs_background": "light"
     },
     "output_type": "display_data"
    }
   ],
   "source": [
    "from numpy import random\n",
    "import matplotlib.pyplot as plt\n",
    "import seaborn as sns\n",
    "\n",
    "sns.distplot(random.exponential(size=1000), hist=False)\n",
    "\n",
    "plt.show()"
   ]
  },
  {
   "cell_type": "markdown",
   "id": "d9bb9ab3",
   "metadata": {},
   "source": [
    "# CHI SQUARE DISTRIBUTION"
   ]
  },
  {
   "cell_type": "markdown",
   "id": "f27e59a6",
   "metadata": {},
   "source": [
    "used as a basis to verify the hypothesis, has two parameter(df-degree of freedom, size-shape)"
   ]
  },
  {
   "cell_type": "code",
   "execution_count": 67,
   "id": "3d0334d9",
   "metadata": {},
   "outputs": [
    {
     "name": "stdout",
     "output_type": "stream",
     "text": [
      "[[0.08376369 0.04910935 2.45710547]\n",
      " [3.03631005 3.63775357 0.10802328]]\n"
     ]
    }
   ],
   "source": [
    "from numpy import random\n",
    "\n",
    "x = random.chisquare(df=2, size=(2, 3))\n",
    "\n",
    "print(x)"
   ]
  },
  {
   "cell_type": "markdown",
   "id": "694ffdf4",
   "metadata": {},
   "source": [
    "# visualization of chi square"
   ]
  },
  {
   "cell_type": "code",
   "execution_count": 68,
   "id": "87f4ba75",
   "metadata": {},
   "outputs": [
    {
     "name": "stderr",
     "output_type": "stream",
     "text": [
      "C:\\Users\\PC\\anaconda3\\lib\\site-packages\\seaborn\\distributions.py:2619: FutureWarning: `distplot` is a deprecated function and will be removed in a future version. Please adapt your code to use either `displot` (a figure-level function with similar flexibility) or `kdeplot` (an axes-level function for kernel density plots).\n",
      "  warnings.warn(msg, FutureWarning)\n"
     ]
    },
    {
     "data": {
      "image/png": "[encoded data removed]",
      "text/plain": [
       "<Figure size 432x288 with 1 Axes>"
      ]
     },
     "metadata": {
      "needs_background": "light"
     },
     "output_type": "display_data"
    }
   ],
   "source": [
    "from numpy import random\n",
    "import matplotlib.pyplot as plt\n",
    "import seaborn as sns\n",
    "\n",
    "sns.distplot(random.chisquare(df=1, size=1000), hist=False)\n",
    "\n",
    "plt.show()"
   ]
  },
  {
   "cell_type": "markdown",
   "id": "2a8d6165",
   "metadata": {},
   "source": [
    "# RAYLEIGH DISTRIBUTION"
   ]
  },
  {
   "cell_type": "markdown",
   "id": "a3fd669e",
   "metadata": {},
   "source": [
    "used in signal processing, has two parameter(scale-std, size-shape)"
   ]
  },
  {
   "cell_type": "code",
   "execution_count": 70,
   "id": "3e856a47",
   "metadata": {},
   "outputs": [
    {
     "name": "stdout",
     "output_type": "stream",
     "text": [
      "[[1.14750869 1.43544374 2.0199628 ]\n",
      " [0.577656   0.14820379 2.98000959]]\n"
     ]
    }
   ],
   "source": [
    "from numpy import random\n",
    "\n",
    "x = random.rayleigh(scale=2, size=(2, 3))\n",
    "\n",
    "print(x)"
   ]
  },
  {
   "cell_type": "markdown",
   "id": "e78fb35c",
   "metadata": {},
   "source": [
    "# visualization of Rayleigh"
   ]
  },
  {
   "cell_type": "code",
   "execution_count": 71,
   "id": "0e0b5bb5",
   "metadata": {},
   "outputs": [
    {
     "name": "stderr",
     "output_type": "stream",
     "text": [
      "C:\\Users\\PC\\anaconda3\\lib\\site-packages\\seaborn\\distributions.py:2619: FutureWarning: `distplot` is a deprecated function and will be removed in a future version. Please adapt your code to use either `displot` (a figure-level function with similar flexibility) or `kdeplot` (an axes-level function for kernel density plots).\n",
      "  warnings.warn(msg, FutureWarning)\n"
     ]
    },
    {
     "data": {
      "image/png": "[encoded data removed]",
      "text/plain": [
       "<Figure size 432x288 with 1 Axes>"
      ]
     },
     "metadata": {
      "needs_background": "light"
     },
     "output_type": "display_data"
    }
   ],
   "source": [
    "from numpy import random\n",
    "import matplotlib.pyplot as plt\n",
    "import seaborn as sns\n",
    "\n",
    "sns.distplot(random.rayleigh(size=1000), hist=False)\n",
    "\n",
    "plt.show()"
   ]
  },
  {
   "cell_type": "markdown",
   "id": "ff993986",
   "metadata": {},
   "source": [
    "# PARETO  DISTRIBUTION"
   ]
  },
  {
   "cell_type": "markdown",
   "id": "26ab13b7",
   "metadata": {},
   "source": [
    "80-20 distribution(20%factors cause 80% outcome)has tow parameters(a-shape parameter, size-shape)"
   ]
  },
  {
   "cell_type": "code",
   "execution_count": 72,
   "id": "6cf326d3",
   "metadata": {},
   "outputs": [
    {
     "name": "stdout",
     "output_type": "stream",
     "text": [
      "[[0.48511798 0.60323086 0.68683232]\n",
      " [0.49446106 1.0984448  0.25982877]]\n"
     ]
    }
   ],
   "source": [
    "from numpy import random\n",
    "\n",
    "x = random.pareto(a=2, size=(2, 3))\n",
    "\n",
    "print(x)"
   ]
  },
  {
   "cell_type": "markdown",
   "id": "3f495221",
   "metadata": {},
   "source": [
    "# visualization of pareto distribution"
   ]
  },
  {
   "cell_type": "code",
   "execution_count": 73,
   "id": "8e6df45a",
   "metadata": {},
   "outputs": [
    {
     "name": "stderr",
     "output_type": "stream",
     "text": [
      "C:\\Users\\PC\\anaconda3\\lib\\site-packages\\seaborn\\distributions.py:2619: FutureWarning: `distplot` is a deprecated function and will be removed in a future version. Please adapt your code to use either `displot` (a figure-level function with similar flexibility) or `histplot` (an axes-level function for histograms).\n",
      "  warnings.warn(msg, FutureWarning)\n"
     ]
    },
    {
     "data": {
      "image/png": "[encoded data removed]",
      "text/plain": [
       "<Figure size 432x288 with 1 Axes>"
      ]
     },
     "metadata": {
      "needs_background": "light"
     },
     "output_type": "display_data"
    }
   ],
   "source": [
    "from numpy import random\n",
    "import matplotlib.pyplot as plt\n",
    "import seaborn as sns\n",
    "\n",
    "sns.distplot(random.pareto(a=2, size=1000), kde=False)\n",
    "\n",
    "plt.show()"
   ]
  },
  {
   "cell_type": "markdown",
   "id": "c16670d2",
   "metadata": {},
   "source": [
    "# ZIPF DISTRIBUTION"
   ]
  },
  {
   "cell_type": "markdown",
   "id": "8567bfdc",
   "metadata": {},
   "source": [
    "based on zipfs law;\"in a collection the nth term is 1/n times of the most common term"
   ]
  },
  {
   "cell_type": "code",
   "execution_count": 74,
   "id": "5f110dc2",
   "metadata": {},
   "outputs": [
    {
     "name": "stdout",
     "output_type": "stream",
     "text": [
      "[[6 1 6]\n",
      " [1 4 3]]\n"
     ]
    }
   ],
   "source": [
    "from numpy import random\n",
    "\n",
    "x = random.zipf(a=2, size=(2, 3))\n",
    "\n",
    "print(x)"
   ]
  },
  {
   "cell_type": "markdown",
   "id": "bae9ceab",
   "metadata": {},
   "source": [
    "# distribution of Zipfs diStribution"
   ]
  },
  {
   "cell_type": "code",
   "execution_count": 75,
   "id": "434e998e",
   "metadata": {},
   "outputs": [
    {
     "data": {
      "image/png": "[encoded data removed]",
      "text/plain": [
       "<Figure size 432x288 with 1 Axes>"
      ]
     },
     "metadata": {
      "needs_background": "light"
     },
     "output_type": "display_data"
    }
   ],
   "source": [
    "#Sample 1000 points but plotting only ones with value < 10 for more meaningful chart.\n",
    "from numpy import random\n",
    "import matplotlib.pyplot as plt\n",
    "import seaborn as sns\n",
    "\n",
    "x = random.zipf(a=2, size=1000)\n",
    "sns.distplot(x[x<10], kde=False)\n",
    "\n",
    "plt.show()"
   ]
  }
 ],
 "metadata": {
  "kernelspec": {
   "display_name": "Python 3 (ipykernel)",
   "language": "python",
   "name": "python3"
  },
  "language_info": {
   "codemirror_mode": {
    "name": "ipython",
    "version": 3
   },
   "file_extension": ".py",
   "mimetype": "text/x-python",
   "name": "python",
   "nbconvert_exporter": "python",
   "pygments_lexer": "ipython3",
   "version": "3.9.12"
  }
 },
 "nbformat": 4,
 "nbformat_minor": 5
}
